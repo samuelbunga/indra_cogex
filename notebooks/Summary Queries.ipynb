{
 "cells": [
  {
   "cell_type": "code",
   "execution_count": 31,
   "id": "6d0cce22",
   "metadata": {},
   "outputs": [],
   "source": [
    "import networkx as nx\n",
    "from indra_cogex.client.neo4j_client import Neo4jClient\n",
    "from tabulate import tabulate\n",
    "from IPython.display import HTML\n",
    "from collections import Counter\n",
    "from networkx.drawing.nx_agraph import to_agraph\n",
    "from tqdm.auto import tqdm"
   ]
  },
  {
   "cell_type": "code",
   "execution_count": 32,
   "id": "6fc15bde",
   "metadata": {},
   "outputs": [
    {
     "name": "stderr",
     "output_type": "stream",
     "text": [
      "INFO: [2022-01-25 16:59:54] indra_cogex.client.neo4j_client - Using configured URL for INDRA neo4j connection\n",
      "INFO: [2022-01-25 16:59:54] indra_cogex.client.neo4j_client - Using configured credentials for INDRA neo4j connection\n"
     ]
    }
   ],
   "source": [
    "client = Neo4jClient()"
   ]
  },
  {
   "cell_type": "code",
   "execution_count": 9,
   "id": "5c943906",
   "metadata": {},
   "outputs": [
    {
     "data": {
      "text/plain": [
       "['ClinicalTrial', 'Evidence', 'BioEntity', 'Publication']"
      ]
     },
     "execution_count": 9,
     "metadata": {},
     "output_type": "execute_result"
    }
   ],
   "source": [
    "[el[0] for el in client.query_tx(\"call db.labels();\")]"
   ]
  },
  {
   "cell_type": "code",
   "execution_count": 33,
   "id": "d816443e",
   "metadata": {},
   "outputs": [
    {
     "name": "stdout",
     "output_type": "stream",
     "text": [
      "CPU times: user 3.92 ms, sys: 2.59 ms, total: 6.51 ms\n",
      "Wall time: 15.3 s\n"
     ]
    },
    {
     "data": {
      "text/plain": [
       "[('ClinicalTrial', 364937),\n",
       " ('Evidence', 18326675),\n",
       " ('BioEntity', 2612711),\n",
       " ('Publication', 33369469)]"
      ]
     },
     "execution_count": 33,
     "metadata": {},
     "output_type": "execute_result"
    }
   ],
   "source": [
    "%%time\n",
    "[(labels[0], count) for labels, count in client.query_tx(f\"MATCH (n) RETURN distinct labels(n), count(*)\")]"
   ]
  },
  {
   "cell_type": "code",
   "execution_count": 14,
   "id": "2c5cc2e1",
   "metadata": {},
   "outputs": [
    {
     "data": {
      "text/html": [
       "<table>\n",
       "<thead>\n",
       "<tr><th>Node Type        </th><th style=\"text-align: right;\">   Count</th></tr>\n",
       "</thead>\n",
       "<tbody>\n",
       "<tr><td>[&#x27;ClinicalTrial&#x27;]</td><td style=\"text-align: right;\">  364937</td></tr>\n",
       "<tr><td>[&#x27;Evidence&#x27;]     </td><td style=\"text-align: right;\">18326675</td></tr>\n",
       "<tr><td>[&#x27;BioEntity&#x27;]    </td><td style=\"text-align: right;\"> 2612711</td></tr>\n",
       "<tr><td>[&#x27;Publication&#x27;]  </td><td style=\"text-align: right;\">33369469</td></tr>\n",
       "</tbody>\n",
       "</table>"
      ],
      "text/plain": [
       "<IPython.core.display.HTML object>"
      ]
     },
     "execution_count": 14,
     "metadata": {},
     "output_type": "execute_result"
    }
   ],
   "source": [
    "HTML(tabulate(node_count_results, headers=[\"Node Type\", \"Count\"], tablefmt=\"html\"))"
   ]
  },
  {
   "cell_type": "code",
   "execution_count": 36,
   "id": "a79818f1",
   "metadata": {},
   "outputs": [
    {
     "name": "stdout",
     "output_type": "stream",
     "text": [
      "CPU times: user 7.98 ms, sys: 2.24 ms, total: 10.2 ms\n",
      "Wall time: 1.71 s\n"
     ]
    },
    {
     "data": {
      "text/plain": [
       "Counter({'ClinicalTrial': 364937,\n",
       "         'Evidence': 18326675,\n",
       "         'BioEntity': 2612711,\n",
       "         'Publication': 33369469})"
      ]
     },
     "execution_count": 36,
     "metadata": {},
     "output_type": "execute_result"
    }
   ],
   "source": [
    "%%time\n",
    "Counter({\n",
    "    label[0]: client.query_tx(f\"MATCH (n:{label[0]}) RETURN count(*)\")[0][0]\n",
    "    for label in client.query_tx(\"call db.labels();\")\n",
    "})"
   ]
  },
  {
   "cell_type": "code",
   "execution_count": 19,
   "id": "9fdde744",
   "metadata": {},
   "outputs": [
    {
     "data": {
      "text/plain": [
       "['expressed_in',\n",
       " 'copy_number_altered_in',\n",
       " 'sensitive_to',\n",
       " 'mutated_in',\n",
       " 'has_indication',\n",
       " 'tested_in',\n",
       " 'has_trial',\n",
       " 'indra_rel',\n",
       " 'has_citation',\n",
       " 'associated_with',\n",
       " 'isa',\n",
       " 'xref',\n",
       " 'partof',\n",
       " 'annotated_with',\n",
       " 'haspart',\n",
       " 'has_side_effect']"
      ]
     },
     "execution_count": 19,
     "metadata": {},
     "output_type": "execute_result"
    }
   ],
   "source": [
    "relation_types = [el[0] for el in client.query_tx(\"call db.relationshipTypes();\")]\n",
    "relation_types"
   ]
  },
  {
   "cell_type": "code",
   "execution_count": 26,
   "id": "a3ae7c3b",
   "metadata": {},
   "outputs": [
    {
     "data": {
      "application/vnd.jupyter.widget-view+json": {
       "model_id": "8a09458fbf6d460c8e7c8313beeaa16a",
       "version_major": 2,
       "version_minor": 0
      },
      "text/plain": [
       "  0%|          | 0/16 [00:00<?, ?it/s]"
      ]
     },
     "metadata": {},
     "output_type": "display_data"
    }
   ],
   "source": [
    "edge_count_results = Counter({\n",
    "    relation: client.query_tx(f\"MATCH ()-[r:{relation}]->() RETURN count(*)\")[0][0]\n",
    "    for relation in tqdm(relation_types)\n",
    "})"
   ]
  },
  {
   "cell_type": "code",
   "execution_count": 38,
   "id": "3b31fdcb",
   "metadata": {},
   "outputs": [
    {
     "data": {
      "text/plain": [
       "Counter({'expressed_in': 4725039,\n",
       "         'copy_number_altered_in': 1422111,\n",
       "         'sensitive_to': 69271,\n",
       "         'mutated_in': 1140475,\n",
       "         'has_indication': 45902,\n",
       "         'tested_in': 253578,\n",
       "         'has_trial': 536104,\n",
       "         'indra_rel': 6268226,\n",
       "         'has_citation': 17975205,\n",
       "         'associated_with': 158648,\n",
       "         'isa': 534776,\n",
       "         'xref': 1129208,\n",
       "         'partof': 619379,\n",
       "         'annotated_with': 290131450,\n",
       "         'haspart': 428980,\n",
       "         'has_side_effect': 308948})"
      ]
     },
     "execution_count": 38,
     "metadata": {},
     "output_type": "execute_result"
    }
   ],
   "source": [
    "edge_count_results"
   ]
  },
  {
   "cell_type": "code",
   "execution_count": 27,
   "id": "a6b6667c",
   "metadata": {},
   "outputs": [
    {
     "data": {
      "text/html": [
       "<table>\n",
       "<thead>\n",
       "<tr><th>Edge Type             </th><th style=\"text-align: right;\">    Count</th></tr>\n",
       "</thead>\n",
       "<tbody>\n",
       "<tr><td>annotated_with        </td><td style=\"text-align: right;\">290131450</td></tr>\n",
       "<tr><td>has_citation          </td><td style=\"text-align: right;\"> 17975205</td></tr>\n",
       "<tr><td>indra_rel             </td><td style=\"text-align: right;\">  6268226</td></tr>\n",
       "<tr><td>expressed_in          </td><td style=\"text-align: right;\">  4725039</td></tr>\n",
       "<tr><td>copy_number_altered_in</td><td style=\"text-align: right;\">  1422111</td></tr>\n",
       "<tr><td>mutated_in            </td><td style=\"text-align: right;\">  1140475</td></tr>\n",
       "<tr><td>xref                  </td><td style=\"text-align: right;\">  1129208</td></tr>\n",
       "<tr><td>partof                </td><td style=\"text-align: right;\">   619379</td></tr>\n",
       "<tr><td>has_trial             </td><td style=\"text-align: right;\">   536104</td></tr>\n",
       "<tr><td>isa                   </td><td style=\"text-align: right;\">   534776</td></tr>\n",
       "<tr><td>haspart               </td><td style=\"text-align: right;\">   428980</td></tr>\n",
       "<tr><td>has_side_effect       </td><td style=\"text-align: right;\">   308948</td></tr>\n",
       "<tr><td>tested_in             </td><td style=\"text-align: right;\">   253578</td></tr>\n",
       "<tr><td>associated_with       </td><td style=\"text-align: right;\">   158648</td></tr>\n",
       "<tr><td>sensitive_to          </td><td style=\"text-align: right;\">    69271</td></tr>\n",
       "<tr><td>has_indication        </td><td style=\"text-align: right;\">    45902</td></tr>\n",
       "</tbody>\n",
       "</table>"
      ],
      "text/plain": [
       "<IPython.core.display.HTML object>"
      ]
     },
     "execution_count": 27,
     "metadata": {},
     "output_type": "execute_result"
    }
   ],
   "source": [
    "HTML(tabulate(edge_count_results.most_common(), headers=[\"Edge Type\", \"Count\"], tablefmt=\"html\"))"
   ]
  },
  {
   "cell_type": "code",
   "execution_count": null,
   "id": "11ceb6ce",
   "metadata": {},
   "outputs": [],
   "source": [
    "def write_schema(client: Neo4jClient, path, prog: str = \"dot\") -> None:\n",
    "    \"\"\"Generate a diagram of the the Neo4j schema.\n",
    "\n",
    "    Arguments\n",
    "    ---------\n",
    "    client : the neo4j client\n",
    "    path : the path of the file (can end in pdf, svg, png, etc.)\n",
    "    prog : the graphviz layout program (can be neato, dot, twopi, etc.)\n",
    "    \"\"\"\n",
    "    schema_nodes, schema_relationships = client.query_tx(\"call db.schema.visualization();\")[0]\n",
    "\n",
    "    graph = nx.MultiDiGraph()\n",
    "    for node in schema_nodes:\n",
    "        graph.add_node(node._id, label=node[\"name\"])\n",
    "    for edge in schema_relationships:\n",
    "        graph.add_edge(edge.start_node._id, edge.end_node._id, id=edge._id, label=edge.type)\n",
    "\n",
    "    agraph = to_agraph(graph)\n",
    "    agraph.draw(path prog=\"dot\")"
   ]
  }
 ],
 "metadata": {
  "kernelspec": {
   "display_name": "Python 3 (ipykernel)",
   "language": "python",
   "name": "python3"
  },
  "language_info": {
   "codemirror_mode": {
    "name": "ipython",
    "version": 3
   },
   "file_extension": ".py",
   "mimetype": "text/x-python",
   "name": "python",
   "nbconvert_exporter": "python",
   "pygments_lexer": "ipython3",
   "version": "3.9.10"
  }
 },
 "nbformat": 4,
 "nbformat_minor": 5
}
